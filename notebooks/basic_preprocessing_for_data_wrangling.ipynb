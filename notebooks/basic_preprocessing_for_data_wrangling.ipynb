{
 "cells": [
  {
   "cell_type": "markdown",
   "id": "3aab6a14",
   "metadata": {},
   "source": [
    "# Medical Supplier Data Preprocessing Notebook : Main Dataset\n",
    "\n",
    "A regular preprocessing workflow on a real-world dataset of medical equipment suppliers. It is designed to showcase structured, careful data handling process aligned with office data maintenance responsibilities."
   ]
  },
  {
   "cell_type": "markdown",
   "id": "0525f086",
   "metadata": {},
   "source": [
    "## Dataset Loading"
   ]
  },
  {
   "cell_type": "code",
   "execution_count": 2,
   "id": "aab20860",
   "metadata": {},
   "outputs": [
    {
     "data": {
      "text/plain": [
       "(63112, 17)"
      ]
     },
     "execution_count": 2,
     "metadata": {},
     "output_type": "execute_result"
    }
   ],
   "source": [
    "import pandas as pd\n",
    "\n",
    "# Load the full dataset\n",
    "df = pd.read_csv(\"../data/raw/Medical-Equipment-Suppliers.csv\", low_memory=False)\n",
    "df.shape"
   ]
  },
  {
   "cell_type": "markdown",
   "id": "fdabaf3f",
   "metadata": {},
   "source": [
    "## Initial Inspection"
   ]
  },
  {
   "cell_type": "code",
   "execution_count": 3,
   "id": "9e9e4573",
   "metadata": {},
   "outputs": [
    {
     "name": "stdout",
     "output_type": "stream",
     "text": [
      "<class 'pandas.core.frame.DataFrame'>\n",
      "RangeIndex: 63112 entries, 0 to 63111\n",
      "Data columns (total 17 columns):\n",
      " #   Column                  Non-Null Count  Dtype  \n",
      "---  ------                  --------------  -----  \n",
      " 0   provider_id             63112 non-null  int64  \n",
      " 1   acceptsassignement      63112 non-null  bool   \n",
      " 2   participationbegindate  63112 non-null  object \n",
      " 3   businessname            63112 non-null  object \n",
      " 4   practicename            63112 non-null  object \n",
      " 5   practiceaddress1        63112 non-null  object \n",
      " 6   practiceaddress2        13087 non-null  object \n",
      " 7   practicecity            63112 non-null  object \n",
      " 8   practicestate           63112 non-null  object \n",
      " 9   practicezip9code        63112 non-null  int64  \n",
      " 10  telephonenumber         63112 non-null  int64  \n",
      " 11  specialitieslist        62423 non-null  object \n",
      " 12  providertypelist        7185 non-null   object \n",
      " 13  supplieslist            63064 non-null  object \n",
      " 14  latitude                63111 non-null  float64\n",
      " 15  longitude               63111 non-null  float64\n",
      " 16  is_contracted_for_cba   63112 non-null  bool   \n",
      "dtypes: bool(2), float64(2), int64(3), object(10)\n",
      "memory usage: 7.3+ MB\n"
     ]
    }
   ],
   "source": [
    "df.info()"
   ]
  },
  {
   "cell_type": "code",
   "execution_count": 4,
   "id": "66710d1d",
   "metadata": {},
   "outputs": [
    {
     "data": {
      "text/html": [
       "<div>\n",
       "<style scoped>\n",
       "    .dataframe tbody tr th:only-of-type {\n",
       "        vertical-align: middle;\n",
       "    }\n",
       "\n",
       "    .dataframe tbody tr th {\n",
       "        vertical-align: top;\n",
       "    }\n",
       "\n",
       "    .dataframe thead th {\n",
       "        text-align: right;\n",
       "    }\n",
       "</style>\n",
       "<table border=\"1\" class=\"dataframe\">\n",
       "  <thead>\n",
       "    <tr style=\"text-align: right;\">\n",
       "      <th></th>\n",
       "      <th>provider_id</th>\n",
       "      <th>acceptsassignement</th>\n",
       "      <th>participationbegindate</th>\n",
       "      <th>businessname</th>\n",
       "      <th>practicename</th>\n",
       "      <th>practiceaddress1</th>\n",
       "      <th>practiceaddress2</th>\n",
       "      <th>practicecity</th>\n",
       "      <th>practicestate</th>\n",
       "      <th>practicezip9code</th>\n",
       "      <th>telephonenumber</th>\n",
       "      <th>specialitieslist</th>\n",
       "      <th>providertypelist</th>\n",
       "      <th>supplieslist</th>\n",
       "      <th>latitude</th>\n",
       "      <th>longitude</th>\n",
       "      <th>is_contracted_for_cba</th>\n",
       "    </tr>\n",
       "  </thead>\n",
       "  <tbody>\n",
       "    <tr>\n",
       "      <th>0</th>\n",
       "      <td>20561045</td>\n",
       "      <td>True</td>\n",
       "      <td>2007-11-01</td>\n",
       "      <td>HARTIG DRUG CO CORP</td>\n",
       "      <td>HARTIG DRUG STORE 5</td>\n",
       "      <td>11002 BARTELL BLVD</td>\n",
       "      <td>NaN</td>\n",
       "      <td>GALENA</td>\n",
       "      <td>IL</td>\n",
       "      <td>610368215</td>\n",
       "      <td>8157772700</td>\n",
       "      <td>Pharmacy</td>\n",
       "      <td>NaN</td>\n",
       "      <td>Enteral Nutrients|Walkers|Tracheotomy Supplies...</td>\n",
       "      <td>42.44484</td>\n",
       "      <td>-90.45593</td>\n",
       "      <td>False</td>\n",
       "    </tr>\n",
       "    <tr>\n",
       "      <th>1</th>\n",
       "      <td>20489003</td>\n",
       "      <td>False</td>\n",
       "      <td>2014-07-01</td>\n",
       "      <td>WAL-MART STORES EAST LP</td>\n",
       "      <td>WALMART PHARMACY 10-0674</td>\n",
       "      <td>1112 NASHVILLE PIKE</td>\n",
       "      <td>NaN</td>\n",
       "      <td>GALLATIN</td>\n",
       "      <td>TN</td>\n",
       "      <td>370667116</td>\n",
       "      <td>6154521110</td>\n",
       "      <td>Optician|Pharmacy</td>\n",
       "      <td>NaN</td>\n",
       "      <td>Enteral Nutrients|Oral Antiemetic Drugs|Blood ...</td>\n",
       "      <td>36.37498</td>\n",
       "      <td>-86.47526</td>\n",
       "      <td>False</td>\n",
       "    </tr>\n",
       "    <tr>\n",
       "      <th>2</th>\n",
       "      <td>20447711</td>\n",
       "      <td>False</td>\n",
       "      <td>2019-01-01</td>\n",
       "      <td>OHIO CVS STORES LLC</td>\n",
       "      <td>CVS PHARMACY #03306</td>\n",
       "      <td>1949 WEST MARKET STREET</td>\n",
       "      <td>NaN</td>\n",
       "      <td>AKRON</td>\n",
       "      <td>OH</td>\n",
       "      <td>443136910</td>\n",
       "      <td>3308675410</td>\n",
       "      <td>Pharmacy</td>\n",
       "      <td>NaN</td>\n",
       "      <td>Blood Glucose Monitors/Supplies (Mail Order)|P...</td>\n",
       "      <td>41.11353</td>\n",
       "      <td>-81.57820</td>\n",
       "      <td>False</td>\n",
       "    </tr>\n",
       "    <tr>\n",
       "      <th>3</th>\n",
       "      <td>20541431</td>\n",
       "      <td>False</td>\n",
       "      <td>2010-03-31</td>\n",
       "      <td>LUXOTTICA OF AMERICA INC</td>\n",
       "      <td>LENSCRAFERS #00855</td>\n",
       "      <td>2526 S THIRD ST</td>\n",
       "      <td>NaN</td>\n",
       "      <td>JACKSONVILLE</td>\n",
       "      <td>FL</td>\n",
       "      <td>322506024</td>\n",
       "      <td>9042472374</td>\n",
       "      <td>Optician</td>\n",
       "      <td>NaN</td>\n",
       "      <td>Prosthetic Lenses: Conventional Eyeglasses</td>\n",
       "      <td>30.26696</td>\n",
       "      <td>-81.38857</td>\n",
       "      <td>False</td>\n",
       "    </tr>\n",
       "    <tr>\n",
       "      <th>4</th>\n",
       "      <td>20469089</td>\n",
       "      <td>True</td>\n",
       "      <td>2016-12-15</td>\n",
       "      <td>SPECIALTY INFUSIONS INC</td>\n",
       "      <td>PRIME INFUSIONS</td>\n",
       "      <td>1624 BROADWAY</td>\n",
       "      <td>NaN</td>\n",
       "      <td>BROOKLYN</td>\n",
       "      <td>NY</td>\n",
       "      <td>112071026</td>\n",
       "      <td>7184434000</td>\n",
       "      <td>Pharmacy</td>\n",
       "      <td>NaN</td>\n",
       "      <td>External Infusion Pumps and/or Supplies|Osteog...</td>\n",
       "      <td>40.68483</td>\n",
       "      <td>-73.91404</td>\n",
       "      <td>False</td>\n",
       "    </tr>\n",
       "  </tbody>\n",
       "</table>\n",
       "</div>"
      ],
      "text/plain": [
       "   provider_id  acceptsassignement participationbegindate  \\\n",
       "0     20561045                True             2007-11-01   \n",
       "1     20489003               False             2014-07-01   \n",
       "2     20447711               False             2019-01-01   \n",
       "3     20541431               False             2010-03-31   \n",
       "4     20469089                True             2016-12-15   \n",
       "\n",
       "               businessname              practicename  \\\n",
       "0       HARTIG DRUG CO CORP       HARTIG DRUG STORE 5   \n",
       "1   WAL-MART STORES EAST LP  WALMART PHARMACY 10-0674   \n",
       "2       OHIO CVS STORES LLC       CVS PHARMACY #03306   \n",
       "3  LUXOTTICA OF AMERICA INC        LENSCRAFERS #00855   \n",
       "4   SPECIALTY INFUSIONS INC           PRIME INFUSIONS   \n",
       "\n",
       "          practiceaddress1 practiceaddress2  practicecity practicestate  \\\n",
       "0       11002 BARTELL BLVD              NaN        GALENA            IL   \n",
       "1      1112 NASHVILLE PIKE              NaN      GALLATIN            TN   \n",
       "2  1949 WEST MARKET STREET              NaN         AKRON            OH   \n",
       "3          2526 S THIRD ST              NaN  JACKSONVILLE            FL   \n",
       "4            1624 BROADWAY              NaN      BROOKLYN            NY   \n",
       "\n",
       "   practicezip9code  telephonenumber   specialitieslist providertypelist  \\\n",
       "0         610368215       8157772700           Pharmacy              NaN   \n",
       "1         370667116       6154521110  Optician|Pharmacy              NaN   \n",
       "2         443136910       3308675410           Pharmacy              NaN   \n",
       "3         322506024       9042472374           Optician              NaN   \n",
       "4         112071026       7184434000           Pharmacy              NaN   \n",
       "\n",
       "                                        supplieslist  latitude  longitude  \\\n",
       "0  Enteral Nutrients|Walkers|Tracheotomy Supplies...  42.44484  -90.45593   \n",
       "1  Enteral Nutrients|Oral Antiemetic Drugs|Blood ...  36.37498  -86.47526   \n",
       "2  Blood Glucose Monitors/Supplies (Mail Order)|P...  41.11353  -81.57820   \n",
       "3         Prosthetic Lenses: Conventional Eyeglasses  30.26696  -81.38857   \n",
       "4  External Infusion Pumps and/or Supplies|Osteog...  40.68483  -73.91404   \n",
       "\n",
       "   is_contracted_for_cba  \n",
       "0                  False  \n",
       "1                  False  \n",
       "2                  False  \n",
       "3                  False  \n",
       "4                  False  "
      ]
     },
     "execution_count": 4,
     "metadata": {},
     "output_type": "execute_result"
    }
   ],
   "source": [
    "df.head()"
   ]
  },
  {
   "cell_type": "markdown",
   "id": "b8f6a10a",
   "metadata": {},
   "source": [
    "## Null Value Summary"
   ]
  },
  {
   "cell_type": "code",
   "execution_count": 5,
   "id": "de3b2de4",
   "metadata": {},
   "outputs": [
    {
     "data": {
      "text/plain": [
       "providertypelist          55927\n",
       "practiceaddress2          50025\n",
       "specialitieslist            689\n",
       "supplieslist                 48\n",
       "latitude                      1\n",
       "longitude                     1\n",
       "provider_id                   0\n",
       "businessname                  0\n",
       "acceptsassignement            0\n",
       "practicestate                 0\n",
       "practicecity                  0\n",
       "practiceaddress1              0\n",
       "practicename                  0\n",
       "participationbegindate        0\n",
       "telephonenumber               0\n",
       "practicezip9code              0\n",
       "is_contracted_for_cba         0\n",
       "dtype: int64"
      ]
     },
     "execution_count": 5,
     "metadata": {},
     "output_type": "execute_result"
    }
   ],
   "source": [
    "df.isnull().sum().sort_values(ascending=False)"
   ]
  },
  {
   "cell_type": "markdown",
   "id": "8bcd67c3",
   "metadata": {},
   "source": [
    "## Unique Value Counts per Column"
   ]
  },
  {
   "cell_type": "code",
   "execution_count": 6,
   "id": "fd9d1b4e",
   "metadata": {},
   "outputs": [
    {
     "data": {
      "text/plain": [
       "acceptsassignement            2\n",
       "is_contracted_for_cba         2\n",
       "practicestate                55\n",
       "providertypelist            308\n",
       "specialitieslist            707\n",
       "practiceaddress2           3312\n",
       "participationbegindate     6001\n",
       "practicecity               7130\n",
       "supplieslist              15324\n",
       "businessname              19466\n",
       "practicename              54388\n",
       "latitude                  58712\n",
       "longitude                 59361\n",
       "practicezip9code          60834\n",
       "practiceaddress1          61566\n",
       "telephonenumber           62258\n",
       "provider_id               63112\n",
       "dtype: int64"
      ]
     },
     "execution_count": 6,
     "metadata": {},
     "output_type": "execute_result"
    }
   ],
   "source": [
    "df.nunique().sort_values()"
   ]
  },
  {
   "cell_type": "markdown",
   "id": "efe31912",
   "metadata": {},
   "source": [
    "## Standardize `practicestate` column"
   ]
  },
  {
   "cell_type": "code",
   "execution_count": 7,
   "id": "88fbca2c",
   "metadata": {},
   "outputs": [],
   "source": [
    "df['practicestate'] = df['practicestate'].str.upper().str.strip()"
   ]
  },
  {
   "cell_type": "markdown",
   "id": "4679e1c0",
   "metadata": {},
   "source": [
    "## filling null values and cleaning `businessname` column"
   ]
  },
  {
   "cell_type": "code",
   "execution_count": 8,
   "id": "d9419356",
   "metadata": {},
   "outputs": [],
   "source": [
    "df['businessname'] = df['businessname'].fillna(\"Missing\")\n",
    "df['businessname_clean'] = df['businessname'].str.title().str.strip()"
   ]
  },
  {
   "cell_type": "markdown",
   "id": "3ff4b257",
   "metadata": {},
   "source": [
    "## Format `telephonenumber`"
   ]
  },
  {
   "cell_type": "code",
   "execution_count": 9,
   "id": "a2a3b4e4",
   "metadata": {},
   "outputs": [],
   "source": [
    "df['telephonenumber'] = df['telephonenumber'].astype(str).str.zfill(10)"
   ]
  },
  {
   "cell_type": "markdown",
   "id": "1c3c937d",
   "metadata": {},
   "source": [
    "## Parse Dates to a datetime format"
   ]
  },
  {
   "cell_type": "code",
   "execution_count": 10,
   "id": "2aa40ad4",
   "metadata": {},
   "outputs": [],
   "source": [
    "df['participationbegindate'] = pd.to_datetime(df['participationbegindate'], errors='coerce')"
   ]
  },
  {
   "cell_type": "markdown",
   "id": "7b10cad4",
   "metadata": {},
   "source": [
    "## clean `specialitieslist` and `supplieslist`"
   ]
  },
  {
   "cell_type": "code",
   "execution_count": 11,
   "id": "8bd971c5",
   "metadata": {},
   "outputs": [],
   "source": [
    "df['specialitieslist'] = df['specialitieslist'].str.title().str.strip()\n",
    "df['supplieslist'] = df['supplieslist'].str.title().str.strip()"
   ]
  },
  {
   "cell_type": "markdown",
   "id": "40a2d3fd",
   "metadata": {},
   "source": [
    "## Format Zip Codes (9 digits)"
   ]
  },
  {
   "cell_type": "code",
   "execution_count": 12,
   "id": "9ce1829f",
   "metadata": {},
   "outputs": [],
   "source": [
    "df['practicezip9code'] = df['practicezip9code'].astype(str).str.zfill(9)"
   ]
  },
  {
   "cell_type": "markdown",
   "id": "70a2876b",
   "metadata": {},
   "source": [
    "## preview Cleaned Data"
   ]
  },
  {
   "cell_type": "code",
   "execution_count": 13,
   "id": "df42fd0a",
   "metadata": {},
   "outputs": [
    {
     "data": {
      "text/html": [
       "<div>\n",
       "<style scoped>\n",
       "    .dataframe tbody tr th:only-of-type {\n",
       "        vertical-align: middle;\n",
       "    }\n",
       "\n",
       "    .dataframe tbody tr th {\n",
       "        vertical-align: top;\n",
       "    }\n",
       "\n",
       "    .dataframe thead th {\n",
       "        text-align: right;\n",
       "    }\n",
       "</style>\n",
       "<table border=\"1\" class=\"dataframe\">\n",
       "  <thead>\n",
       "    <tr style=\"text-align: right;\">\n",
       "      <th></th>\n",
       "      <th>provider_id</th>\n",
       "      <th>acceptsassignement</th>\n",
       "      <th>participationbegindate</th>\n",
       "      <th>businessname</th>\n",
       "      <th>practicename</th>\n",
       "      <th>practiceaddress1</th>\n",
       "      <th>practiceaddress2</th>\n",
       "      <th>practicecity</th>\n",
       "      <th>practicestate</th>\n",
       "      <th>practicezip9code</th>\n",
       "      <th>telephonenumber</th>\n",
       "      <th>specialitieslist</th>\n",
       "      <th>providertypelist</th>\n",
       "      <th>supplieslist</th>\n",
       "      <th>latitude</th>\n",
       "      <th>longitude</th>\n",
       "      <th>is_contracted_for_cba</th>\n",
       "      <th>businessname_clean</th>\n",
       "    </tr>\n",
       "  </thead>\n",
       "  <tbody>\n",
       "    <tr>\n",
       "      <th>0</th>\n",
       "      <td>20561045</td>\n",
       "      <td>True</td>\n",
       "      <td>2007-11-01</td>\n",
       "      <td>HARTIG DRUG CO CORP</td>\n",
       "      <td>HARTIG DRUG STORE 5</td>\n",
       "      <td>11002 BARTELL BLVD</td>\n",
       "      <td>NaN</td>\n",
       "      <td>GALENA</td>\n",
       "      <td>IL</td>\n",
       "      <td>610368215</td>\n",
       "      <td>8157772700</td>\n",
       "      <td>Pharmacy</td>\n",
       "      <td>NaN</td>\n",
       "      <td>Enteral Nutrients|Walkers|Tracheotomy Supplies...</td>\n",
       "      <td>42.44484</td>\n",
       "      <td>-90.45593</td>\n",
       "      <td>False</td>\n",
       "      <td>Hartig Drug Co Corp</td>\n",
       "    </tr>\n",
       "    <tr>\n",
       "      <th>1</th>\n",
       "      <td>20489003</td>\n",
       "      <td>False</td>\n",
       "      <td>2014-07-01</td>\n",
       "      <td>WAL-MART STORES EAST LP</td>\n",
       "      <td>WALMART PHARMACY 10-0674</td>\n",
       "      <td>1112 NASHVILLE PIKE</td>\n",
       "      <td>NaN</td>\n",
       "      <td>GALLATIN</td>\n",
       "      <td>TN</td>\n",
       "      <td>370667116</td>\n",
       "      <td>6154521110</td>\n",
       "      <td>Optician|Pharmacy</td>\n",
       "      <td>NaN</td>\n",
       "      <td>Enteral Nutrients|Oral Antiemetic Drugs|Blood ...</td>\n",
       "      <td>36.37498</td>\n",
       "      <td>-86.47526</td>\n",
       "      <td>False</td>\n",
       "      <td>Wal-Mart Stores East Lp</td>\n",
       "    </tr>\n",
       "    <tr>\n",
       "      <th>2</th>\n",
       "      <td>20447711</td>\n",
       "      <td>False</td>\n",
       "      <td>2019-01-01</td>\n",
       "      <td>OHIO CVS STORES LLC</td>\n",
       "      <td>CVS PHARMACY #03306</td>\n",
       "      <td>1949 WEST MARKET STREET</td>\n",
       "      <td>NaN</td>\n",
       "      <td>AKRON</td>\n",
       "      <td>OH</td>\n",
       "      <td>443136910</td>\n",
       "      <td>3308675410</td>\n",
       "      <td>Pharmacy</td>\n",
       "      <td>NaN</td>\n",
       "      <td>Blood Glucose Monitors/Supplies (Mail Order)|P...</td>\n",
       "      <td>41.11353</td>\n",
       "      <td>-81.57820</td>\n",
       "      <td>False</td>\n",
       "      <td>Ohio Cvs Stores Llc</td>\n",
       "    </tr>\n",
       "    <tr>\n",
       "      <th>3</th>\n",
       "      <td>20541431</td>\n",
       "      <td>False</td>\n",
       "      <td>2010-03-31</td>\n",
       "      <td>LUXOTTICA OF AMERICA INC</td>\n",
       "      <td>LENSCRAFERS #00855</td>\n",
       "      <td>2526 S THIRD ST</td>\n",
       "      <td>NaN</td>\n",
       "      <td>JACKSONVILLE</td>\n",
       "      <td>FL</td>\n",
       "      <td>322506024</td>\n",
       "      <td>9042472374</td>\n",
       "      <td>Optician</td>\n",
       "      <td>NaN</td>\n",
       "      <td>Prosthetic Lenses: Conventional Eyeglasses</td>\n",
       "      <td>30.26696</td>\n",
       "      <td>-81.38857</td>\n",
       "      <td>False</td>\n",
       "      <td>Luxottica Of America Inc</td>\n",
       "    </tr>\n",
       "    <tr>\n",
       "      <th>4</th>\n",
       "      <td>20469089</td>\n",
       "      <td>True</td>\n",
       "      <td>2016-12-15</td>\n",
       "      <td>SPECIALTY INFUSIONS INC</td>\n",
       "      <td>PRIME INFUSIONS</td>\n",
       "      <td>1624 BROADWAY</td>\n",
       "      <td>NaN</td>\n",
       "      <td>BROOKLYN</td>\n",
       "      <td>NY</td>\n",
       "      <td>112071026</td>\n",
       "      <td>7184434000</td>\n",
       "      <td>Pharmacy</td>\n",
       "      <td>NaN</td>\n",
       "      <td>External Infusion Pumps And/Or Supplies|Osteog...</td>\n",
       "      <td>40.68483</td>\n",
       "      <td>-73.91404</td>\n",
       "      <td>False</td>\n",
       "      <td>Specialty Infusions Inc</td>\n",
       "    </tr>\n",
       "  </tbody>\n",
       "</table>\n",
       "</div>"
      ],
      "text/plain": [
       "   provider_id  acceptsassignement participationbegindate  \\\n",
       "0     20561045                True             2007-11-01   \n",
       "1     20489003               False             2014-07-01   \n",
       "2     20447711               False             2019-01-01   \n",
       "3     20541431               False             2010-03-31   \n",
       "4     20469089                True             2016-12-15   \n",
       "\n",
       "               businessname              practicename  \\\n",
       "0       HARTIG DRUG CO CORP       HARTIG DRUG STORE 5   \n",
       "1   WAL-MART STORES EAST LP  WALMART PHARMACY 10-0674   \n",
       "2       OHIO CVS STORES LLC       CVS PHARMACY #03306   \n",
       "3  LUXOTTICA OF AMERICA INC        LENSCRAFERS #00855   \n",
       "4   SPECIALTY INFUSIONS INC           PRIME INFUSIONS   \n",
       "\n",
       "          practiceaddress1 practiceaddress2  practicecity practicestate  \\\n",
       "0       11002 BARTELL BLVD              NaN        GALENA            IL   \n",
       "1      1112 NASHVILLE PIKE              NaN      GALLATIN            TN   \n",
       "2  1949 WEST MARKET STREET              NaN         AKRON            OH   \n",
       "3          2526 S THIRD ST              NaN  JACKSONVILLE            FL   \n",
       "4            1624 BROADWAY              NaN      BROOKLYN            NY   \n",
       "\n",
       "  practicezip9code telephonenumber   specialitieslist providertypelist  \\\n",
       "0        610368215      8157772700           Pharmacy              NaN   \n",
       "1        370667116      6154521110  Optician|Pharmacy              NaN   \n",
       "2        443136910      3308675410           Pharmacy              NaN   \n",
       "3        322506024      9042472374           Optician              NaN   \n",
       "4        112071026      7184434000           Pharmacy              NaN   \n",
       "\n",
       "                                        supplieslist  latitude  longitude  \\\n",
       "0  Enteral Nutrients|Walkers|Tracheotomy Supplies...  42.44484  -90.45593   \n",
       "1  Enteral Nutrients|Oral Antiemetic Drugs|Blood ...  36.37498  -86.47526   \n",
       "2  Blood Glucose Monitors/Supplies (Mail Order)|P...  41.11353  -81.57820   \n",
       "3         Prosthetic Lenses: Conventional Eyeglasses  30.26696  -81.38857   \n",
       "4  External Infusion Pumps And/Or Supplies|Osteog...  40.68483  -73.91404   \n",
       "\n",
       "   is_contracted_for_cba        businessname_clean  \n",
       "0                  False       Hartig Drug Co Corp  \n",
       "1                  False   Wal-Mart Stores East Lp  \n",
       "2                  False       Ohio Cvs Stores Llc  \n",
       "3                  False  Luxottica Of America Inc  \n",
       "4                  False   Specialty Infusions Inc  "
      ]
     },
     "execution_count": 13,
     "metadata": {},
     "output_type": "execute_result"
    }
   ],
   "source": [
    "df.head()"
   ]
  }
 ],
 "metadata": {
  "kernelspec": {
   "display_name": "venv",
   "language": "python",
   "name": "python3"
  },
  "language_info": {
   "codemirror_mode": {
    "name": "ipython",
    "version": 3
   },
   "file_extension": ".py",
   "mimetype": "text/x-python",
   "name": "python",
   "nbconvert_exporter": "python",
   "pygments_lexer": "ipython3",
   "version": "3.11.5"
  }
 },
 "nbformat": 4,
 "nbformat_minor": 5
}
