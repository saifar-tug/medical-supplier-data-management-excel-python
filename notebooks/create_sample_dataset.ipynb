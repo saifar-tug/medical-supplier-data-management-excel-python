{
 "cells": [
  {
   "cell_type": "markdown",
   "metadata": {},
   "source": [
    "# Create Sample Data for Cleaning with Excel"
   ]
  },
  {
   "cell_type": "code",
   "execution_count": 1,
   "metadata": {},
   "outputs": [],
   "source": [
    "import pandas as pd\n",
    "import numpy as np\n",
    "from datetime import datetime, timedelta"
   ]
  },
  {
   "cell_type": "code",
   "execution_count": 2,
   "metadata": {},
   "outputs": [
    {
     "data": {
      "text/plain": [
       "(63112, 17)"
      ]
     },
     "execution_count": 2,
     "metadata": {},
     "output_type": "execute_result"
    }
   ],
   "source": [
    "med_data = pd.read_csv(\"../data/raw/Medical-Equipment-Suppliers.csv\")\n",
    "med_data.shape"
   ]
  },
  {
   "cell_type": "code",
   "execution_count": 3,
   "metadata": {},
   "outputs": [
    {
     "data": {
      "text/plain": [
       "provider_id                 int64\n",
       "acceptsassignement           bool\n",
       "participationbegindate     object\n",
       "businessname               object\n",
       "practicename               object\n",
       "practiceaddress1           object\n",
       "practiceaddress2           object\n",
       "practicecity               object\n",
       "practicestate              object\n",
       "practicezip9code            int64\n",
       "telephonenumber             int64\n",
       "specialitieslist           object\n",
       "providertypelist           object\n",
       "supplieslist               object\n",
       "latitude                  float64\n",
       "longitude                 float64\n",
       "is_contracted_for_cba        bool\n",
       "dtype: object"
      ]
     },
     "execution_count": 3,
     "metadata": {},
     "output_type": "execute_result"
    }
   ],
   "source": [
    "med_data.dtypes"
   ]
  },
  {
   "cell_type": "code",
   "execution_count": 4,
   "metadata": {},
   "outputs": [
    {
     "data": {
      "text/plain": [
       "practicestate\n",
       "CA    5233\n",
       "NY    4924\n",
       "TX    4728\n",
       "FL    4452\n",
       "PA    2827\n",
       "IL    2274\n",
       "OH    2251\n",
       "NC    2112\n",
       "GA    1983\n",
       "MI    1964\n",
       "NJ    1812\n",
       "TN    1586\n",
       "VA    1582\n",
       "IN    1422\n",
       "MO    1338\n",
       "AZ    1238\n",
       "MN    1212\n",
       "MA    1196\n",
       "WA    1195\n",
       "WI    1184\n",
       "AL    1146\n",
       "KY    1146\n",
       "MD    1058\n",
       "SC     998\n",
       "CO     994\n",
       "LA     897\n",
       "IA     878\n",
       "OK     827\n",
       "KS     739\n",
       "CT     722\n",
       "AR     698\n",
       "OR     680\n",
       "MS     642\n",
       "NE     486\n",
       "NV     486\n",
       "WV     473\n",
       "UT     423\n",
       "ME     341\n",
       "NM     336\n",
       "ID     334\n",
       "NH     287\n",
       "SD     245\n",
       "MT     237\n",
       "PR     224\n",
       "RI     208\n",
       "DE     206\n",
       "HI     190\n",
       "ND     180\n",
       "WY     150\n",
       "VT     140\n",
       "DC     111\n",
       "AK     101\n",
       "VI       9\n",
       "GU       5\n",
       "MP       2\n",
       "Name: count, dtype: int64"
      ]
     },
     "execution_count": 4,
     "metadata": {},
     "output_type": "execute_result"
    }
   ],
   "source": [
    "med_data['practicestate'].value_counts()"
   ]
  },
  {
   "cell_type": "code",
   "execution_count": 5,
   "metadata": {},
   "outputs": [
    {
     "data": {
      "text/plain": [
       "(1000, 17)"
      ]
     },
     "execution_count": 5,
     "metadata": {},
     "output_type": "execute_result"
    }
   ],
   "source": [
    "ca_data = med_data[med_data['practicestate'] == 'CA'].copy()\n",
    "sampled_med_data = ca_data.sample(n=1000, random_state=42).reset_index(drop=True)\n",
    "sampled_med_data.shape"
   ]
  },
  {
   "cell_type": "code",
   "execution_count": 6,
   "metadata": {},
   "outputs": [
    {
     "data": {
      "text/html": [
       "<div>\n",
       "<style scoped>\n",
       "    .dataframe tbody tr th:only-of-type {\n",
       "        vertical-align: middle;\n",
       "    }\n",
       "\n",
       "    .dataframe tbody tr th {\n",
       "        vertical-align: top;\n",
       "    }\n",
       "\n",
       "    .dataframe thead th {\n",
       "        text-align: right;\n",
       "    }\n",
       "</style>\n",
       "<table border=\"1\" class=\"dataframe\">\n",
       "  <thead>\n",
       "    <tr style=\"text-align: right;\">\n",
       "      <th></th>\n",
       "      <th>provider_id</th>\n",
       "      <th>businessname</th>\n",
       "      <th>practiceaddress1</th>\n",
       "      <th>practicecity</th>\n",
       "      <th>practicestate</th>\n",
       "      <th>practicezip9code</th>\n",
       "      <th>supplieslist</th>\n",
       "      <th>specialitieslist</th>\n",
       "      <th>telephonenumber</th>\n",
       "    </tr>\n",
       "  </thead>\n",
       "  <tbody>\n",
       "    <tr>\n",
       "      <th>0</th>\n",
       "      <td>20420603</td>\n",
       "      <td>VIVIDCITY PHARMACY LLC</td>\n",
       "      <td>12504 MAGNOLIA BLVD</td>\n",
       "      <td>VALLEY VILLAGE</td>\n",
       "      <td>CA</td>\n",
       "      <td>916072306</td>\n",
       "      <td>Oral Antiemetic Drugs|Epoetin|Oral Anticancer ...</td>\n",
       "      <td>Pharmacy</td>\n",
       "      <td>3239870315</td>\n",
       "    </tr>\n",
       "    <tr>\n",
       "      <th>1</th>\n",
       "      <td>20537201</td>\n",
       "      <td>THRIFTY PAYLESS INC</td>\n",
       "      <td>910 DIABLO AVE</td>\n",
       "      <td>NOVATO</td>\n",
       "      <td>CA</td>\n",
       "      <td>949477311</td>\n",
       "      <td>Commodes, Urinals, Bedpans|Ostomy Supplies|Neb...</td>\n",
       "      <td>Pharmacy</td>\n",
       "      <td>4158981905</td>\n",
       "    </tr>\n",
       "    <tr>\n",
       "      <th>2</th>\n",
       "      <td>20369591</td>\n",
       "      <td>WALGREEN CO</td>\n",
       "      <td>1625 W SUNSET BLVD</td>\n",
       "      <td>LOS ANGELES</td>\n",
       "      <td>CA</td>\n",
       "      <td>900264226</td>\n",
       "      <td>Blood Glucose Monitors/Supplies (Non-Mail Orde...</td>\n",
       "      <td>Pharmacy</td>\n",
       "      <td>2134829286</td>\n",
       "    </tr>\n",
       "    <tr>\n",
       "      <th>3</th>\n",
       "      <td>20436101</td>\n",
       "      <td>GARFIELD BEACH CVS LLC</td>\n",
       "      <td>23806 MAIN ST</td>\n",
       "      <td>CARSON</td>\n",
       "      <td>CA</td>\n",
       "      <td>907455746</td>\n",
       "      <td>Commodes, Urinals, Bedpans|Parenteral Equipmen...</td>\n",
       "      <td>Pharmacy</td>\n",
       "      <td>3109526640</td>\n",
       "    </tr>\n",
       "    <tr>\n",
       "      <th>4</th>\n",
       "      <td>20425667</td>\n",
       "      <td>GARFIELD BEACH CVS LLC</td>\n",
       "      <td>1400 FITGERALD DR</td>\n",
       "      <td>PINOLE</td>\n",
       "      <td>CA</td>\n",
       "      <td>945642250</td>\n",
       "      <td>Parenteral Equipment and/or Supplies|Ostomy Su...</td>\n",
       "      <td>Pharmacy</td>\n",
       "      <td>5102229281</td>\n",
       "    </tr>\n",
       "  </tbody>\n",
       "</table>\n",
       "</div>"
      ],
      "text/plain": [
       "   provider_id            businessname     practiceaddress1    practicecity  \\\n",
       "0     20420603  VIVIDCITY PHARMACY LLC  12504 MAGNOLIA BLVD  VALLEY VILLAGE   \n",
       "1     20537201     THRIFTY PAYLESS INC       910 DIABLO AVE          NOVATO   \n",
       "2     20369591             WALGREEN CO   1625 W SUNSET BLVD     LOS ANGELES   \n",
       "3     20436101  GARFIELD BEACH CVS LLC        23806 MAIN ST          CARSON   \n",
       "4     20425667  GARFIELD BEACH CVS LLC    1400 FITGERALD DR          PINOLE   \n",
       "\n",
       "  practicestate  practicezip9code  \\\n",
       "0            CA         916072306   \n",
       "1            CA         949477311   \n",
       "2            CA         900264226   \n",
       "3            CA         907455746   \n",
       "4            CA         945642250   \n",
       "\n",
       "                                        supplieslist specialitieslist  \\\n",
       "0  Oral Antiemetic Drugs|Epoetin|Oral Anticancer ...         Pharmacy   \n",
       "1  Commodes, Urinals, Bedpans|Ostomy Supplies|Neb...         Pharmacy   \n",
       "2  Blood Glucose Monitors/Supplies (Non-Mail Orde...         Pharmacy   \n",
       "3  Commodes, Urinals, Bedpans|Parenteral Equipmen...         Pharmacy   \n",
       "4  Parenteral Equipment and/or Supplies|Ostomy Su...         Pharmacy   \n",
       "\n",
       "   telephonenumber  \n",
       "0       3239870315  \n",
       "1       4158981905  \n",
       "2       2134829286  \n",
       "3       3109526640  \n",
       "4       5102229281  "
      ]
     },
     "execution_count": 6,
     "metadata": {},
     "output_type": "execute_result"
    }
   ],
   "source": [
    "columns_to_keep = [\n",
    "    \"provider_id\",\n",
    "    \"businessname\",\n",
    "    \"practiceaddress1\",\n",
    "    \"practicecity\",\n",
    "    \"practicestate\",\n",
    "    \"practicezip9code\",\n",
    "    \"supplieslist\",\n",
    "    \"specialitieslist\",\n",
    "    \"telephonenumber\"\n",
    "]\n",
    "sampled_med_data = sampled_med_data[columns_to_keep].copy()\n",
    "sampled_med_data.head()"
   ]
  },
  {
   "cell_type": "code",
   "execution_count": 7,
   "metadata": {},
   "outputs": [],
   "source": [
    "duplicates = sampled_med_data.sample(n=10, random_state=7)\n",
    "dirty_data = pd.concat([sampled_med_data, duplicates], ignore_index=True)"
   ]
  },
  {
   "cell_type": "markdown",
   "metadata": {},
   "source": [
    "**few things below for later preprocessing** "
   ]
  },
  {
   "cell_type": "code",
   "execution_count": 8,
   "metadata": {},
   "outputs": [],
   "source": [
    "dirty_data.loc[15:25, 'businessname'] = \"\""
   ]
  },
  {
   "cell_type": "code",
   "execution_count": 9,
   "metadata": {},
   "outputs": [],
   "source": [
    "dirty_data.loc[100:110, 'telephonenumber'] = np.nan"
   ]
  },
  {
   "cell_type": "code",
   "execution_count": 10,
   "metadata": {},
   "outputs": [],
   "source": [
    "dirty_data.loc[30, 'specialitieslist'] = \"Pharamcy\"   \n",
    "dirty_data.loc[60, 'specialitieslist'] = \"Pharacy\""
   ]
  },
  {
   "cell_type": "code",
   "execution_count": 11,
   "metadata": {},
   "outputs": [],
   "source": [
    "dirty_data.loc[::20, 'practicestate'] = dirty_data['practicestate'].str.lower()"
   ]
  },
  {
   "cell_type": "code",
   "execution_count": 12,
   "metadata": {},
   "outputs": [],
   "source": [
    "output_path = \"../data/processed/medical_supplier_dirty_sample.xlsx\"\n",
    "dirty_data.to_excel(output_path, index=False)"
   ]
  },
  {
   "cell_type": "code",
   "execution_count": 13,
   "metadata": {},
   "outputs": [],
   "source": [
    "dirty_data = pd.read_excel(\"../data/processed/medical_supplier_dirty_sample.xlsx\")"
   ]
  },
  {
   "cell_type": "code",
   "execution_count": 14,
   "metadata": {},
   "outputs": [],
   "source": [
    "region_lookup = {\n",
    "    \"LOS ANGELES\": \"Southern CA\",\n",
    "    \"SAN DIEGO\": \"Southern CA\",\n",
    "    \"VALLEY VILLAGE\": \"Southern CA\",\n",
    "    \"SAN FRANCISCO\": \"Northern CA\",\n",
    "    \"SACRAMENTO\": \"Northern CA\",\n",
    "    \"OAKLAND\": \"Northern CA\",\n",
    "    \"FRESNO\": \"Central CA\",\n",
    "    \"BAKERSFIELD\": \"Central CA\"\n",
    "}"
   ]
  },
  {
   "cell_type": "code",
   "execution_count": 15,
   "metadata": {},
   "outputs": [],
   "source": [
    "dirty_data[\"practicecity_upper\"] = dirty_data[\"practicecity\"].str.upper()\n",
    "dirty_data[\"region\"] = dirty_data[\"practicecity_upper\"].map(region_lookup)\n",
    "dirty_data.drop(columns=[\"practicecity_upper\"], inplace=True)\n",
    "dirty_data[\"region\"] = dirty_data[\"region\"].fillna(\"Unknown Region\")"
   ]
  },
  {
   "cell_type": "code",
   "execution_count": 16,
   "metadata": {},
   "outputs": [],
   "source": [
    "dirty_data[\"expiry_date\"] = [\n",
    "    datetime.today() + timedelta(days=int(np.random.randint(30, 1095)))\n",
    "    for _ in range(len(dirty_data))\n",
    "]\n",
    "dirty_data[\"expiry_date\"] = dirty_data[\"expiry_date\"].dt.date"
   ]
  },
  {
   "cell_type": "code",
   "execution_count": 17,
   "metadata": {},
   "outputs": [],
   "source": [
    "dirty_data[\"price\"] = np.round(np.random.uniform(10, 500, len(dirty_data)), 2)\n",
    "output_path = \"../data/processed/medical_supplier_enhanced.xlsx\"\n",
    "dirty_data.to_excel(output_path, index=False)"
   ]
  },
  {
   "cell_type": "code",
   "execution_count": 18,
   "metadata": {},
   "outputs": [
    {
     "data": {
      "text/plain": [
       "Index(['provider_id', 'businessname', 'practiceaddress1', 'practicecity',\n",
       "       'practicestate', 'practicezip9code', 'supplieslist', 'specialitieslist',\n",
       "       'telephonenumber', 'region', 'expiry_date', 'price'],\n",
       "      dtype='object')"
      ]
     },
     "execution_count": 18,
     "metadata": {},
     "output_type": "execute_result"
    }
   ],
   "source": [
    "dirty_data.columns"
   ]
  }
 ],
 "metadata": {
  "kernelspec": {
   "display_name": "venv",
   "language": "python",
   "name": "python3"
  },
  "language_info": {
   "codemirror_mode": {
    "name": "ipython",
    "version": 3
   },
   "file_extension": ".py",
   "mimetype": "text/x-python",
   "name": "python",
   "nbconvert_exporter": "python",
   "pygments_lexer": "ipython3",
   "version": "3.11.5"
  }
 },
 "nbformat": 4,
 "nbformat_minor": 2
}
